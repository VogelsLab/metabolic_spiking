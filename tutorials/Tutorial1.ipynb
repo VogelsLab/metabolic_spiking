{
 "cells": [
  {
   "cell_type": "markdown",
   "metadata": {},
   "source": [
    "This is a the first tutorial (v1) for the metabolic spike regulation work. This captures the essence of Figure 1 and Figure S1 in our paper. This is work in progress. Any comments and improvements to make it better are welcome!\n",
    "\n",
    "Please enter the cell below and press Shift+ENTER\n",
    "---"
   ]
  },
  {
   "cell_type": "code",
   "execution_count": 6,
   "metadata": {
    "scrolled": true
   },
   "outputs": [],
   "source": [
    "from tutorial1 import * "
   ]
  },
  {
   "cell_type": "markdown",
   "metadata": {},
   "source": [
    "Now to play with our models. You will find two 'sliders' that you can adjust to fix the lifetime physiological operation regimes a neuron experiences. The mininmum (the least metabolically dormant this neuron has ever been) and the maximum (the most metabolic atp expense this neuron has ever seen).\n",
    "\n",
    "Notice how the gray bar moves related to this choice. Our neuron will only be exposed to the ROS levels (full line) in the white background areas, and never enter the gray zones.\n",
    "\n",
    "Lets start the tutorial. Please press Shift+ENTER in the next line, to exceute the code.\n",
    "---"
   ]
  },
  {
   "cell_type": "code",
   "execution_count": 2,
   "metadata": {},
   "outputs": [
    {
     "data": {
      "application/vnd.jupyter.widget-view+json": {
       "model_id": "b290e179dc3f4615a54dc8ac9a5e5a61",
       "version_major": 2,
       "version_minor": 0
      },
      "text/plain": [
       "interactive(children=(IntSlider(value=10, continuous_update=False, description='Lifetime min Non-spiking costs…"
      ]
     },
     "metadata": {},
     "output_type": "display_data"
    },
    {
     "data": {
      "application/vnd.jupyter.widget-view+json": {
       "model_id": "9dc20010bb52454db2f3f139d15d41f4",
       "version_major": 2,
       "version_minor": 0
      },
      "text/plain": [
       "Output()"
      ]
     },
     "metadata": {},
     "output_type": "display_data"
    }
   ],
   "source": [
    "r = widgets.interact(ros_ss, min_atp=min_kant, max_atp=max_kant);display(ss_output)"
   ]
  },
  {
   "cell_type": "markdown",
   "metadata": {},
   "source": [
    "Now lets set the Non-spiking cost of this neuron by playing with another slider, below. This is the star in our paper.\n",
    "\n",
    "Let change the Non-Spiking costs of this neuron\n",
    "---"
   ]
  },
  {
   "cell_type": "code",
   "execution_count": 3,
   "metadata": {},
   "outputs": [
    {
     "data": {
      "application/vnd.jupyter.widget-view+json": {
       "model_id": "274cd2608eee41e6a12d47d63a855e3f",
       "version_major": 2,
       "version_minor": 0
      },
      "text/plain": [
       "interactive(children=(IntSlider(value=30, continuous_update=False, description='Current Non-spiking costs :', …"
      ]
     },
     "metadata": {},
     "output_type": "display_data"
    },
    {
     "data": {
      "application/vnd.jupyter.widget-view+json": {
       "model_id": "9acd6a63aca0465980317d0469ccd46c",
       "version_major": 2,
       "version_minor": 0
      },
      "text/plain": [
       "Output()"
      ]
     },
     "metadata": {},
     "output_type": "display_data"
    }
   ],
   "source": [
    "r = widgets.interact(ros_ss_steady, bl=curr_cost1); display(rosss_output)"
   ]
  },
  {
   "cell_type": "markdown",
   "metadata": {},
   "source": [
    "Now lets set per-spike cost of this neuron by playing with few more sliders, below. You can change the Q value , the rise and decay of this cost. Notice that you can still play with the non-spiking costs.\n",
    "\n",
    "Let change the per-spike cost profile of this neuron\n",
    "---"
   ]
  },
  {
   "cell_type": "code",
   "execution_count": 4,
   "metadata": {},
   "outputs": [
    {
     "data": {
      "application/vnd.jupyter.widget-view+json": {
       "model_id": "595c757635ef4184af8f58c6c0c3e8d4",
       "version_major": 2,
       "version_minor": 0
      },
      "text/plain": [
       "Button(description='Default values', style=ButtonStyle())"
      ]
     },
     "metadata": {},
     "output_type": "display_data"
    },
    {
     "data": {
      "application/vnd.jupyter.widget-view+json": {
       "model_id": "a04e61c896f34ad8b6e3c678bb52caa0",
       "version_major": 2,
       "version_minor": 0
      },
      "text/plain": [
       "interactive(children=(IntSlider(value=30, continuous_update=False, description='Current Non-spiking costs :', …"
      ]
     },
     "metadata": {},
     "output_type": "display_data"
    },
    {
     "data": {
      "application/vnd.jupyter.widget-view+json": {
       "model_id": "03b119de3ff54956a61af9951b067c29",
       "version_major": 2,
       "version_minor": 0
      },
      "text/plain": [
       "Output()"
      ]
     },
     "metadata": {},
     "output_type": "display_data"
    }
   ],
   "source": [
    "reset_button1(defaults={curr_cost1: 45, fact: 0.1, tau_Q: 100, tau_rise: 5}) \n",
    "r = widgets.interact(spike_shape, bl=curr_cost1, q=fact, tau_Q=tau_Q, tau_rise=tau_rise); display(sshape)"
   ]
  },
  {
   "cell_type": "markdown",
   "metadata": {},
   "source": [
    "Now lets see how a single spike by neuron goes through an excursion in the ROS landscape. The RED-ness here corresponds to the amount of ROS exposure. You can still change the Q value, its shape, the non-spiking costs.\n",
    "\n",
    "Let us observe the ROS exposure due to this excursion (on the right side). You can also see the underlying NAD+, Pyruvate levels, and the ATP and deltaPSI levels.\n",
    "\n",
    "Lets test the various configurations of this setup now! End of tutorial1.\n",
    "---"
   ]
  },
  {
   "cell_type": "code",
   "execution_count": 5,
   "metadata": {},
   "outputs": [
    {
     "data": {
      "application/vnd.jupyter.widget-view+json": {
       "model_id": "4e5be47c8a1e4dc986832f6d0efd4a50",
       "version_major": 2,
       "version_minor": 0
      },
      "text/plain": [
       "Button(description='Default values', style=ButtonStyle())"
      ]
     },
     "metadata": {},
     "output_type": "display_data"
    },
    {
     "data": {
      "application/vnd.jupyter.widget-view+json": {
       "model_id": "9bfac687650d490a88b2aa38173fc0ad",
       "version_major": 2,
       "version_minor": 0
      },
      "text/plain": [
       "interactive(children=(IntSlider(value=30, continuous_update=False, description='Current Non-spiking costs :', …"
      ]
     },
     "metadata": {},
     "output_type": "display_data"
    },
    {
     "data": {
      "application/vnd.jupyter.widget-view+json": {
       "model_id": "5770e0ee54054542b22c4b9018c8e7d9",
       "version_major": 2,
       "version_minor": 0
      },
      "text/plain": [
       "Output()"
      ]
     },
     "metadata": {},
     "output_type": "display_data"
    }
   ],
   "source": [
    "reset_button2(defaults={curr_cost1: 45, fact: 0.1, tau_Q:100, tau_rise:5, ca_fact:1e-3}) \n",
    "r = widgets.interact(spike_quanta, bl=curr_cost1, q=fact, tau_Q=tau_Q, tau_rise=tau_rise, f_mcu=ca_fact); display(squanta)"
   ]
  }
 ],
 "metadata": {
  "kernelspec": {
   "display_name": "Python 3 (ipykernel)",
   "language": "python",
   "name": "python3"
  },
  "language_info": {
   "codemirror_mode": {
    "name": "ipython",
    "version": 3
   },
   "file_extension": ".py",
   "mimetype": "text/x-python",
   "name": "python",
   "nbconvert_exporter": "python",
   "pygments_lexer": "ipython3",
   "version": "3.10.9"
  }
 },
 "nbformat": 4,
 "nbformat_minor": 4
}
