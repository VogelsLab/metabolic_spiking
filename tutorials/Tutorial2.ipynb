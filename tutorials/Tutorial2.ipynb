{
 "cells": [
  {
   "cell_type": "markdown",
   "id": "f2f34a55",
   "metadata": {},
   "source": [
    "This is a the second tutorial (v1) for the metabolic spike regulation work. This captures the essence of Figure 2 and Figure S3 in our paper. This is work in progress. Any comments and improvements to make it better are welcome!\n",
    "\n",
    "Please enter the cell below and press Shift+ENTER\n",
    "---"
   ]
  },
  {
   "cell_type": "code",
   "execution_count": 3,
   "id": "6c3a8fc7",
   "metadata": {},
   "outputs": [],
   "source": [
    "from tutorial2 import * "
   ]
  },
  {
   "cell_type": "markdown",
   "id": "7f2f9f53",
   "metadata": {},
   "source": [
    "Now lets play with our neuron-mitochondria model. You will find some 'sliders' that you can adjust similar to the previous (tutorial 1). The lifetime minimum (the least metabolically dormant this neuron has ever been) and the maximum (the most metabolic atp expense this neuron has ever seen) ROS exposure of a neuron are shown. A neuron's current non-spiking cost are also shown. The plot shows the Metabolic signals that the neuron would be exposed to, because of the changing non-spiking costs.\n",
    "\n",
    "Two new sliders that show the amount of protection the neuron can cope with are also shown here. Play with the RET protectionMax and FET protection Min (this corresponds to the Theta_ret and Theta_FET) in our model.\n",
    "\n",
    "Notice how the green and magenta lines moves related to this choice. Our neuron will only be exposed to the ROS levels (full line) in the white background areas, and never enter the gray zones.\n",
    "\n",
    "Lets start the tutorial. Please press Shift+ENTER in the next cell.\n",
    "---"
   ]
  },
  {
   "cell_type": "code",
   "execution_count": 4,
   "id": "2ad28cbe",
   "metadata": {},
   "outputs": [
    {
     "data": {
      "application/vnd.jupyter.widget-view+json": {
       "model_id": "cc3f55f2902c4951bd3364f6e235b1b3",
       "version_major": 2,
       "version_minor": 0
      },
      "text/plain": [
       "Button(description='Default values', style=ButtonStyle())"
      ]
     },
     "metadata": {},
     "output_type": "display_data"
    },
    {
     "data": {
      "application/vnd.jupyter.widget-view+json": {
       "model_id": "52ef5474b1b7485ca56210d7f4f39d7b",
       "version_major": 2,
       "version_minor": 0
      },
      "text/plain": [
       "interactive(children=(IntSlider(value=10, continuous_update=False, description='Lifetime min Non-spiking costs…"
      ]
     },
     "metadata": {},
     "output_type": "display_data"
    },
    {
     "data": {
      "application/vnd.jupyter.widget-view+json": {
       "model_id": "bb3eb809e01d426c8abd6806386ed3bf",
       "version_major": 2,
       "version_minor": 0
      },
      "text/plain": [
       "Button(description='Default values', style=ButtonStyle())"
      ]
     },
     "metadata": {},
     "output_type": "display_data"
    }
   ],
   "source": [
    "reset_button1(defaults={curr_cost1: 30, min_kant: 10, max_kant: 200, ret_adj: 0.025, fet_adj:-0.05})\n",
    "r = widgets.interact(ros_ss, min_atp=min_kant, max_atp=max_kant, bl=curr_cost1, theta_ret=ret_adj, theta_fet=fet_adj)\n",
    "reset_button1(defaults={curr_cost1: 30, min_kant: 10, max_kant: 200, ret_adj: 0.025, fet_adj:-0.05}) "
   ]
  },
  {
   "cell_type": "markdown",
   "id": "379747a8",
   "metadata": {},
   "source": [
    "Now lets set per-spike cost of this neuron by playing with some more sliders, below. You can change the Q value , the rise and decay of this cost. Notice that you can still play with the non-spiking costs. This is same as in the previous tutorial. Except here, the per-spike cost will be used to limit ROS production.\n",
    "\n",
    "Let change the per-spike cost profile of this neuron\n",
    "---"
   ]
  },
  {
   "cell_type": "code",
   "execution_count": 5,
   "id": "9fe16269",
   "metadata": {},
   "outputs": [
    {
     "data": {
      "application/vnd.jupyter.widget-view+json": {
       "model_id": "d84fca95b6814d7fabb3de7d9e194452",
       "version_major": 2,
       "version_minor": 0
      },
      "text/plain": [
       "Button(description='Default values', style=ButtonStyle())"
      ]
     },
     "metadata": {},
     "output_type": "display_data"
    },
    {
     "data": {
      "application/vnd.jupyter.widget-view+json": {
       "model_id": "36638785be7b4b078fa625edba4a764a",
       "version_major": 2,
       "version_minor": 0
      },
      "text/plain": [
       "interactive(children=(IntSlider(value=30, continuous_update=False, description='Current Non-spiking costs :', …"
      ]
     },
     "metadata": {},
     "output_type": "display_data"
    }
   ],
   "source": [
    "reset_button2(defaults={curr_cost1: 45, fact: 0.1, tau_rise:5}) \n",
    "r = widgets.interact(spike_shape, bl=curr_cost1, q=fact, tau_rise=tau_rise)"
   ]
  },
  {
   "cell_type": "markdown",
   "id": "9429d56f",
   "metadata": {},
   "source": [
    "Here, now depending on the current status of the neuron, it may be exposed to RET/FET conditions. Perhaps it is already in a safe zone. To check if it is press the button 'Evaluate status'. If it is in the RET exposure zone, the neuron can use its spike (shaped above) to conteract this RETROS condition.\n",
    "\n",
    "If RET Protection button is active, you can press it, and see the effect of metabolic regulation of spiking. Four plots appear, the first corresponding to the spike raster, the second corresponds to the ROS level, the third is the ATP levels, and lastly the Metabolic signal level\n",
    "\n",
    "Please Shift+ENTER button to see the solution.\n",
    "---"
   ]
  },
  {
   "cell_type": "code",
   "execution_count": 6,
   "id": "a04f5261",
   "metadata": {},
   "outputs": [
    {
     "data": {
      "application/vnd.jupyter.widget-view+json": {
       "model_id": "155a2350b51e446a874d3b66d9256ebb",
       "version_major": 2,
       "version_minor": 0
      },
      "text/plain": [
       "IntSlider(value=30, continuous_update=False, description='Current Non-spiking costs :', layout=Layout(width='5…"
      ]
     },
     "metadata": {},
     "output_type": "display_data"
    },
    {
     "data": {
      "application/vnd.jupyter.widget-view+json": {
       "model_id": "e5457038e25248fe9e8814e933bd970f",
       "version_major": 2,
       "version_minor": 0
      },
      "text/plain": [
       "HBox(children=(Button(description='Evaluate status', style=ButtonStyle()), Label(value='Unknown')))"
      ]
     },
     "metadata": {},
     "output_type": "display_data"
    },
    {
     "data": {
      "application/vnd.jupyter.widget-view+json": {
       "model_id": "5002bedbbf1e4d768c54d76fb758f6b3",
       "version_major": 2,
       "version_minor": 0
      },
      "text/plain": [
       "IntSlider(value=5, continuous_update=False, description='Refractory period (ms):', layout=Layout(width='400px'…"
      ]
     },
     "metadata": {},
     "output_type": "display_data"
    },
    {
     "data": {
      "application/vnd.jupyter.widget-view+json": {
       "model_id": "66b0011fbe924cad8ae7e9df8a11c09c",
       "version_major": 2,
       "version_minor": 0
      },
      "text/plain": [
       "VBox(children=(Button(description='RET Protection', disabled=True, style=ButtonStyle()), Output()))"
      ]
     },
     "metadata": {},
     "output_type": "display_data"
    }
   ],
   "source": [
    "display(curr_cost1, hbox1)\n",
    "display(refrac_sel)\n",
    "display(widgets.VBox([retprot_button, retprot_output]))"
   ]
  }
 ],
 "metadata": {
  "kernelspec": {
   "display_name": "Python 3 (ipykernel)",
   "language": "python",
   "name": "python3"
  },
  "language_info": {
   "codemirror_mode": {
    "name": "ipython",
    "version": 3
   },
   "file_extension": ".py",
   "mimetype": "text/x-python",
   "name": "python",
   "nbconvert_exporter": "python",
   "pygments_lexer": "ipython3",
   "version": "3.10.9"
  }
 },
 "nbformat": 4,
 "nbformat_minor": 5
}
