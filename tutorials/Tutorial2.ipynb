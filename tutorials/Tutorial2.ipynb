{
 "cells": [
  {
   "cell_type": "code",
   "execution_count": 1,
   "metadata": {},
   "outputs": [
    {
     "data": {
      "text/html": [
       "<style>div.output_scroll { height: 44em; }</style>"
      ],
      "text/plain": [
       "<IPython.core.display.HTML object>"
      ]
     },
     "metadata": {},
     "output_type": "display_data"
    }
   ],
   "source": [
    "from tutorial2 import * "
   ]
  },
  {
   "cell_type": "code",
   "execution_count": 2,
   "metadata": {},
   "outputs": [
    {
     "data": {
      "application/vnd.jupyter.widget-view+json": {
       "model_id": "bc7e740f8f984a839082f14fd6d0fb3f",
       "version_major": 2,
       "version_minor": 0
      },
      "text/plain": [
       "Button(description='Default values', style=ButtonStyle())"
      ]
     },
     "metadata": {},
     "output_type": "display_data"
    },
    {
     "data": {
      "application/vnd.jupyter.widget-view+json": {
       "model_id": "3954afc3a58e4423849743e859cdf6a3",
       "version_major": 2,
       "version_minor": 0
      },
      "text/plain": [
       "interactive(children=(IntSlider(value=10, continuous_update=False, description='Lifetime min Non-spiking costs…"
      ]
     },
     "metadata": {},
     "output_type": "display_data"
    },
    {
     "data": {
      "application/vnd.jupyter.widget-view+json": {
       "model_id": "456cec04301c487199056cb038f537ec",
       "version_major": 2,
       "version_minor": 0
      },
      "text/plain": [
       "Button(description='Default values', style=ButtonStyle())"
      ]
     },
     "metadata": {},
     "output_type": "display_data"
    }
   ],
   "source": [
    "reset_button1(defaults={curr_cost1: 30, min_kant: 10, max_kant: 200, ret_adj: 0.025, fet_adj:-0.05})\n",
    "r = widgets.interact(ros_ss, min_atp=min_kant, max_atp=max_kant, bl=curr_cost1, theta_ret=ret_adj, theta_fet=fet_adj)\n",
    "reset_button1(defaults={curr_cost1: 30, min_kant: 10, max_kant: 200, ret_adj: 0.025, fet_adj:-0.05}) "
   ]
  },
  {
   "cell_type": "code",
   "execution_count": 3,
   "metadata": {},
   "outputs": [
    {
     "data": {
      "application/vnd.jupyter.widget-view+json": {
       "model_id": "a48556262b064e4d83238bb77e9e7418",
       "version_major": 2,
       "version_minor": 0
      },
      "text/plain": [
       "Button(description='Default values', style=ButtonStyle())"
      ]
     },
     "metadata": {},
     "output_type": "display_data"
    },
    {
     "data": {
      "application/vnd.jupyter.widget-view+json": {
       "model_id": "675905b2cb86465aa35400262a50e5f1",
       "version_major": 2,
       "version_minor": 0
      },
      "text/plain": [
       "interactive(children=(IntSlider(value=30, continuous_update=False, description='Current Non-spiking costs :', …"
      ]
     },
     "metadata": {},
     "output_type": "display_data"
    }
   ],
   "source": [
    "reset_button2(defaults={curr_cost1: 45, fact: 0.1, tau_rise:5}) \n",
    "r = widgets.interact(spike_shape, bl=curr_cost1, q=fact, tau_rise=tau_rise)"
   ]
  },
  {
   "cell_type": "code",
   "execution_count": 4,
   "metadata": {},
   "outputs": [
    {
     "data": {
      "application/vnd.jupyter.widget-view+json": {
       "model_id": "3a050e55e51b40ae92eee30b2b59f341",
       "version_major": 2,
       "version_minor": 0
      },
      "text/plain": [
       "IntSlider(value=30, continuous_update=False, description='Current Non-spiking costs :', layout=Layout(width='5…"
      ]
     },
     "metadata": {},
     "output_type": "display_data"
    },
    {
     "data": {
      "application/vnd.jupyter.widget-view+json": {
       "model_id": "3974bc8d8a09431492cd68cd62ae9853",
       "version_major": 2,
       "version_minor": 0
      },
      "text/plain": [
       "HBox(children=(Button(description='Evaluate status', style=ButtonStyle()), Label(value='Unknown')))"
      ]
     },
     "metadata": {},
     "output_type": "display_data"
    },
    {
     "data": {
      "application/vnd.jupyter.widget-view+json": {
       "model_id": "f644156d2ffb455f8b0f98f819eb4110",
       "version_major": 2,
       "version_minor": 0
      },
      "text/plain": [
       "IntSlider(value=5, continuous_update=False, description='Refractory period (ms):', layout=Layout(width='400px'…"
      ]
     },
     "metadata": {},
     "output_type": "display_data"
    },
    {
     "data": {
      "application/vnd.jupyter.widget-view+json": {
       "model_id": "582b8b2e8a1845d9a390a0f6f944586d",
       "version_major": 2,
       "version_minor": 0
      },
      "text/plain": [
       "VBox(children=(Button(description='RET Protection', disabled=True, style=ButtonStyle()), Output()))"
      ]
     },
     "metadata": {},
     "output_type": "display_data"
    },
    {
     "name": "stdout",
     "output_type": "stream",
     "text": [
      "Baseline ATP =  30\n",
      "ATP Op.Range =  1000\n",
      "K ANT =  0.03\n",
      "Baseline ATP =  30\n",
      "ATP Op.Range =  1000\n",
      "K ANT =  0.03\n",
      "Baseline ATP =  20\n",
      "ATP Op.Range =  1000\n",
      "K ANT =  0.02\n"
     ]
    }
   ],
   "source": [
    "display(curr_cost1, hbox1)\n",
    "display(refrac_sel)\n",
    "display(widgets.VBox([retprot_button, retprot_output]))"
   ]
  },
  {
   "cell_type": "code",
   "execution_count": null,
   "metadata": {},
   "outputs": [],
   "source": []
  }
 ],
 "metadata": {
  "kernelspec": {
   "display_name": "Python 3",
   "language": "python",
   "name": "python3"
  },
  "language_info": {
   "codemirror_mode": {
    "name": "ipython",
    "version": 3
   },
   "file_extension": ".py",
   "mimetype": "text/x-python",
   "name": "python",
   "nbconvert_exporter": "python",
   "pygments_lexer": "ipython3",
   "version": "3.6.10"
  }
 },
 "nbformat": 4,
 "nbformat_minor": 5
}
